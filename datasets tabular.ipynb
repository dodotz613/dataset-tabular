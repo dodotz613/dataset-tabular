{
 "cells": [
  {
   "cell_type": "code",
   "execution_count": 3,
   "id": "acbc56be",
   "metadata": {
    "scrolled": true
   },
   "outputs": [
    {
     "name": "stderr",
     "output_type": "stream",
     "text": [
      "Matplotlib is building the font cache; this may take a moment.\n"
     ]
    },
    {
     "name": "stdout",
     "output_type": "stream",
     "text": [
      "<class 'pandas.core.frame.DataFrame'>\n",
      "RangeIndex: 4809 entries, 0 to 4808\n",
      "Data columns (total 4 columns):\n",
      " #   Column        Non-Null Count  Dtype \n",
      "---  ------        --------------  ----- \n",
      " 0   Sales Rep     4809 non-null   object\n",
      " 1   Sales Rep Id  4809 non-null   object\n",
      " 2   Company Name  4809 non-null   object\n",
      " 3   Company Id    4809 non-null   object\n",
      "dtypes: object(4)\n",
      "memory usage: 150.4+ KB\n"
     ]
    },
    {
     "data": {
      "text/html": [
       "<div>\n",
       "<style scoped>\n",
       "    .dataframe tbody tr th:only-of-type {\n",
       "        vertical-align: middle;\n",
       "    }\n",
       "\n",
       "    .dataframe tbody tr th {\n",
       "        vertical-align: top;\n",
       "    }\n",
       "\n",
       "    .dataframe thead th {\n",
       "        text-align: right;\n",
       "    }\n",
       "</style>\n",
       "<table border=\"1\" class=\"dataframe\">\n",
       "  <thead>\n",
       "    <tr style=\"text-align: right;\">\n",
       "      <th></th>\n",
       "      <th>Sales Rep</th>\n",
       "      <th>Sales Rep Id</th>\n",
       "      <th>Company Name</th>\n",
       "      <th>Company Id</th>\n",
       "    </tr>\n",
       "  </thead>\n",
       "  <tbody>\n",
       "    <tr>\n",
       "      <th>0</th>\n",
       "      <td>Deann Hall</td>\n",
       "      <td>61KSIDWP42XZSL8X</td>\n",
       "      <td>Money-Hungry Commissary</td>\n",
       "      <td>LN4OZ8T4VIVQBXLR</td>\n",
       "    </tr>\n",
       "    <tr>\n",
       "      <th>1</th>\n",
       "      <td>Deann Hall</td>\n",
       "      <td>61KSIDWP42XZSL8X</td>\n",
       "      <td>Underdeveloped Sympathy</td>\n",
       "      <td>B7B9TXC4QP6OPK6D</td>\n",
       "    </tr>\n",
       "    <tr>\n",
       "      <th>2</th>\n",
       "      <td>Deann Hall</td>\n",
       "      <td>61KSIDWP42XZSL8X</td>\n",
       "      <td>Orderly Fighting</td>\n",
       "      <td>6MHS0OL2UUVR0MV5</td>\n",
       "    </tr>\n",
       "    <tr>\n",
       "      <th>3</th>\n",
       "      <td>Deann Hall</td>\n",
       "      <td>61KSIDWP42XZSL8X</td>\n",
       "      <td>Synchronous Oxytetracycline</td>\n",
       "      <td>910PYRYKOX1BOHWG</td>\n",
       "    </tr>\n",
       "    <tr>\n",
       "      <th>4</th>\n",
       "      <td>Deann Hall</td>\n",
       "      <td>61KSIDWP42XZSL8X</td>\n",
       "      <td>Panicky Methacrylate</td>\n",
       "      <td>IVDNKFYFYA75GDAR</td>\n",
       "    </tr>\n",
       "  </tbody>\n",
       "</table>\n",
       "</div>"
      ],
      "text/plain": [
       "    Sales Rep      Sales Rep Id                 Company Name        Company Id\n",
       "0  Deann Hall  61KSIDWP42XZSL8X      Money-Hungry Commissary  LN4OZ8T4VIVQBXLR\n",
       "1  Deann Hall  61KSIDWP42XZSL8X      Underdeveloped Sympathy  B7B9TXC4QP6OPK6D\n",
       "2  Deann Hall  61KSIDWP42XZSL8X             Orderly Fighting  6MHS0OL2UUVR0MV5\n",
       "3  Deann Hall  61KSIDWP42XZSL8X  Synchronous Oxytetracycline  910PYRYKOX1BOHWG\n",
       "4  Deann Hall  61KSIDWP42XZSL8X         Panicky Methacrylate  IVDNKFYFYA75GDAR"
      ]
     },
     "execution_count": 3,
     "metadata": {},
     "output_type": "execute_result"
    }
   ],
   "source": [
    "import pandas as pd\n",
    "import sklearn\n",
    "from sklearn import datasets\n",
    "import matplotlib.pyplot as plt\n",
    "\n",
    "\n",
    "df = pd.read_csv(\"https://raw.githubusercontent.com/FBosler/Medium-Data-Extraction/master/sales_team.csv\")\n",
    "df.info()\n",
    "df.head()"
   ]
  }
 ],
 "metadata": {
  "kernelspec": {
   "display_name": "Python 3 (ipykernel)",
   "language": "python",
   "name": "python3"
  },
  "language_info": {
   "codemirror_mode": {
    "name": "ipython",
    "version": 3
   },
   "file_extension": ".py",
   "mimetype": "text/x-python",
   "name": "python",
   "nbconvert_exporter": "python",
   "pygments_lexer": "ipython3",
   "version": "3.10.7"
  }
 },
 "nbformat": 4,
 "nbformat_minor": 5
}
